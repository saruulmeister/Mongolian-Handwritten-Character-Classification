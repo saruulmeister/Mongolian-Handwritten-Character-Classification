{
  "nbformat": 4,
  "nbformat_minor": 0,
  "metadata": {
    "colab": {
      "name": "HMCC DL",
      "provenance": [],
      "collapsed_sections": []
    },
    "kernelspec": {
      "name": "python3",
      "display_name": "Python 3"
    },
    "accelerator": "GPU"
  },
  "cells": [
    {
      "cell_type": "markdown",
      "metadata": {
        "id": "KJ64cYu5oM8t"
      },
      "source": [
        "# Mongolian Handwritten Character Classification using Deep Learning"
      ]
    },
    {
      "cell_type": "markdown",
      "metadata": {
        "id": "f1Ca8lGOltn2"
      },
      "source": [
        "### Fetching datasets from Kaggle"
      ]
    },
    {
      "cell_type": "code",
      "metadata": {
        "id": "AJpinQdAl1WU"
      },
      "source": [
        "#from google.colab import drive\n",
        "#drive.mount('/content/gdrive')"
      ],
      "execution_count": null,
      "outputs": []
    },
    {
      "cell_type": "markdown",
      "metadata": {
        "id": "MZQdAZDQtsk0"
      },
      "source": [
        ""
      ]
    },
    {
      "cell_type": "code",
      "metadata": {
        "id": "mkFDsPBbl282"
      },
      "source": [
        "#import os\n",
        "#os.environ['KAGGLE_CONFIG_DIR'] = \"/content/gdrive/My Drive/Kaggle\""
      ],
      "execution_count": null,
      "outputs": []
    },
    {
      "cell_type": "code",
      "metadata": {
        "id": "qPAEN62YmUxa"
      },
      "source": [
        "#%cd /content/gdrive/My Drive/Kaggle"
      ],
      "execution_count": null,
      "outputs": []
    },
    {
      "cell_type": "code",
      "metadata": {
        "id": "EAUc6v8ZmpkM"
      },
      "source": [
        "#!ls"
      ],
      "execution_count": null,
      "outputs": []
    },
    {
      "cell_type": "code",
      "metadata": {
        "id": "Tb9L669ImaaT"
      },
      "source": [
        "#! kaggle datasets download -d vimpigro/handwritten-mongolian-cyrillic-characters-database"
      ],
      "execution_count": null,
      "outputs": []
    },
    {
      "cell_type": "code",
      "metadata": {
        "id": "nMDNgsgwmgTC"
      },
      "source": [
        "#!unzip \\*.zip  && rm *.zip"
      ],
      "execution_count": null,
      "outputs": []
    },
    {
      "cell_type": "markdown",
      "metadata": {
        "id": "eqZA4ntsvyo8"
      },
      "source": [
        "### Setting up the directory"
      ]
    },
    {
      "cell_type": "code",
      "metadata": {
        "id": "D2FbGJtov168",
        "colab": {
          "base_uri": "https://localhost:8080/"
        },
        "outputId": "0eaf10f4-a5c1-49bf-8b43-37cc37691957"
      },
      "source": [
        "from google.colab import drive\n",
        "drive.mount('/content/drive')"
      ],
      "execution_count": null,
      "outputs": [
        {
          "output_type": "stream",
          "text": [
            "Mounted at /content/drive\n"
          ],
          "name": "stdout"
        }
      ]
    },
    {
      "cell_type": "code",
      "metadata": {
        "id": "rbUyr1O8v-I6",
        "colab": {
          "base_uri": "https://localhost:8080/"
        },
        "outputId": "b6bf09b4-eaa5-4a8a-d8ff-765c589db150"
      },
      "source": [
        "%cd '/content/drive/MyDrive/Kaggle'"
      ],
      "execution_count": null,
      "outputs": [
        {
          "output_type": "stream",
          "text": [
            "/content/drive/MyDrive/Kaggle\n"
          ],
          "name": "stdout"
        }
      ]
    },
    {
      "cell_type": "code",
      "metadata": {
        "id": "Qe3LKGC1wFdH",
        "colab": {
          "base_uri": "https://localhost:8080/"
        },
        "outputId": "9feecd92-6db4-476b-ffc3-c6587179fd57"
      },
      "source": [
        "%ls"
      ],
      "execution_count": null,
      "outputs": [
        {
          "output_type": "stream",
          "text": [
            " HMCC_all.csv         HMCC_letters_merged.csv    kaggle.json\n",
            "'HMCC balanced.csv'  'HMCC similar merged.csv'   PSET2\n"
          ],
          "name": "stdout"
        }
      ]
    },
    {
      "cell_type": "markdown",
      "metadata": {
        "id": "5svWqjzGLj_W"
      },
      "source": [
        "### Installing and Importing Packages "
      ]
    },
    {
      "cell_type": "code",
      "metadata": {
        "id": "PoEYcvHB9gdA",
        "colab": {
          "base_uri": "https://localhost:8080/"
        },
        "outputId": "36bc7fe1-388c-486f-da43-c57aea5c14ea"
      },
      "source": [
        "!pip install -Uqq fastai --upgrade\n",
        "!pip install -Uqq fastcore --upgrade"
      ],
      "execution_count": null,
      "outputs": [
        {
          "output_type": "stream",
          "text": [
            "\u001b[?25l\r\u001b[K     |█▊                              | 10kB 21.1MB/s eta 0:00:01\r\u001b[K     |███▍                            | 20kB 28.3MB/s eta 0:00:01\r\u001b[K     |█████                           | 30kB 33.5MB/s eta 0:00:01\r\u001b[K     |██████▊                         | 40kB 31.5MB/s eta 0:00:01\r\u001b[K     |████████▍                       | 51kB 33.1MB/s eta 0:00:01\r\u001b[K     |██████████                      | 61kB 32.4MB/s eta 0:00:01\r\u001b[K     |███████████▉                    | 71kB 26.7MB/s eta 0:00:01\r\u001b[K     |█████████████▌                  | 81kB 28.0MB/s eta 0:00:01\r\u001b[K     |███████████████▏                | 92kB 27.1MB/s eta 0:00:01\r\u001b[K     |████████████████▉               | 102kB 28.3MB/s eta 0:00:01\r\u001b[K     |██████████████████▌             | 112kB 28.3MB/s eta 0:00:01\r\u001b[K     |████████████████████▏           | 122kB 28.3MB/s eta 0:00:01\r\u001b[K     |██████████████████████          | 133kB 28.3MB/s eta 0:00:01\r\u001b[K     |███████████████████████▋        | 143kB 28.3MB/s eta 0:00:01\r\u001b[K     |█████████████████████████▎      | 153kB 28.3MB/s eta 0:00:01\r\u001b[K     |███████████████████████████     | 163kB 28.3MB/s eta 0:00:01\r\u001b[K     |████████████████████████████▋   | 174kB 28.3MB/s eta 0:00:01\r\u001b[K     |██████████████████████████████▎ | 184kB 28.3MB/s eta 0:00:01\r\u001b[K     |████████████████████████████████| 194kB 28.3MB/s eta 0:00:01\r\u001b[K     |████████████████████████████████| 204kB 28.3MB/s \n",
            "\u001b[?25h\u001b[?25l\r\u001b[K     |██████                          | 10kB 31.0MB/s eta 0:00:01\r\u001b[K     |████████████▏                   | 20kB 37.9MB/s eta 0:00:01\r\u001b[K     |██████████████████▎             | 30kB 41.9MB/s eta 0:00:01\r\u001b[K     |████████████████████████▍       | 40kB 39.3MB/s eta 0:00:01\r\u001b[K     |██████████████████████████████▌ | 51kB 39.3MB/s eta 0:00:01\r\u001b[K     |████████████████████████████████| 61kB 8.6MB/s \n",
            "\u001b[?25h"
          ],
          "name": "stdout"
        }
      ]
    },
    {
      "cell_type": "code",
      "metadata": {
        "id": "hG-vlM-79eZ1",
        "colab": {
          "base_uri": "https://localhost:8080/"
        },
        "outputId": "fed5d6d9-d852-4ac9-f8a1-7908a486c75c"
      },
      "source": [
        "import fastai\n",
        "import fastcore\n",
        "import numpy as np\n",
        "import csv\n",
        "from PIL import Image    \n",
        "import matplotlib.pyplot as plt\n",
        "import os\n",
        "print('Fast.ai version:', fastai.__version__)\n",
        "print('Fastcore version:', fastcore.__version__)"
      ],
      "execution_count": null,
      "outputs": [
        {
          "output_type": "stream",
          "text": [
            "Fast.ai version: 2.3.1\n",
            "Fastcore version: 1.3.20\n"
          ],
          "name": "stdout"
        }
      ]
    },
    {
      "cell_type": "code",
      "metadata": {
        "id": "fdxob-YAKpNQ"
      },
      "source": [
        "from fastai.vision.all import *"
      ],
      "execution_count": null,
      "outputs": []
    },
    {
      "cell_type": "code",
      "metadata": {
        "id": "bU_-PBg7ZDHd",
        "colab": {
          "base_uri": "https://localhost:8080/"
        },
        "outputId": "ae8f7d04-1d49-422f-ac31-162a7f151707"
      },
      "source": [
        "!nvidia-smi"
      ],
      "execution_count": null,
      "outputs": [
        {
          "output_type": "stream",
          "text": [
            "Tue May 11 03:11:24 2021       \n",
            "+-----------------------------------------------------------------------------+\n",
            "| NVIDIA-SMI 465.19.01    Driver Version: 460.32.03    CUDA Version: 11.2     |\n",
            "|-------------------------------+----------------------+----------------------+\n",
            "| GPU  Name        Persistence-M| Bus-Id        Disp.A | Volatile Uncorr. ECC |\n",
            "| Fan  Temp  Perf  Pwr:Usage/Cap|         Memory-Usage | GPU-Util  Compute M. |\n",
            "|                               |                      |               MIG M. |\n",
            "|===============================+======================+======================|\n",
            "|   0  Tesla T4            Off  | 00000000:00:04.0 Off |                    0 |\n",
            "| N/A   54C    P8    10W /  70W |      3MiB / 15109MiB |      0%      Default |\n",
            "|                               |                      |                  N/A |\n",
            "+-------------------------------+----------------------+----------------------+\n",
            "                                                                               \n",
            "+-----------------------------------------------------------------------------+\n",
            "| Processes:                                                                  |\n",
            "|  GPU   GI   CI        PID   Type   Process name                  GPU Memory |\n",
            "|        ID   ID                                                   Usage      |\n",
            "|=============================================================================|\n",
            "|  No running processes found                                                 |\n",
            "+-----------------------------------------------------------------------------+\n"
          ],
          "name": "stdout"
        }
      ]
    },
    {
      "cell_type": "markdown",
      "metadata": {
        "id": "fcRMe7EdaXak"
      },
      "source": [
        "### Importing data"
      ]
    },
    {
      "cell_type": "code",
      "metadata": {
        "id": "Ql4ouPpqZOj5",
        "colab": {
          "base_uri": "https://localhost:8080/",
          "height": 253
        },
        "outputId": "ea341dfb-2fc0-46a4-f45a-49af51c5b655"
      },
      "source": [
        "df_all = pd.read_csv('HMCC_all.csv',\n",
        "                     delimiter = ',')\n",
        "df_all.head()"
      ],
      "execution_count": null,
      "outputs": [
        {
          "output_type": "execute_result",
          "data": {
            "text/html": [
              "<div>\n",
              "<style scoped>\n",
              "    .dataframe tbody tr th:only-of-type {\n",
              "        vertical-align: middle;\n",
              "    }\n",
              "\n",
              "    .dataframe tbody tr th {\n",
              "        vertical-align: top;\n",
              "    }\n",
              "\n",
              "    .dataframe thead th {\n",
              "        text-align: right;\n",
              "    }\n",
              "</style>\n",
              "<table border=\"1\" class=\"dataframe\">\n",
              "  <thead>\n",
              "    <tr style=\"text-align: right;\">\n",
              "      <th></th>\n",
              "      <th>38</th>\n",
              "      <th>0</th>\n",
              "      <th>0.1</th>\n",
              "      <th>0.2</th>\n",
              "      <th>0.3</th>\n",
              "      <th>0.4</th>\n",
              "      <th>0.5</th>\n",
              "      <th>0.6</th>\n",
              "      <th>0.7</th>\n",
              "      <th>0.8</th>\n",
              "      <th>0.9</th>\n",
              "      <th>0.10</th>\n",
              "      <th>0.11</th>\n",
              "      <th>0.12</th>\n",
              "      <th>0.13</th>\n",
              "      <th>0.14</th>\n",
              "      <th>0.15</th>\n",
              "      <th>0.16</th>\n",
              "      <th>0.17</th>\n",
              "      <th>0.18</th>\n",
              "      <th>0.19</th>\n",
              "      <th>0.20</th>\n",
              "      <th>0.21</th>\n",
              "      <th>0.22</th>\n",
              "      <th>0.23</th>\n",
              "      <th>0.24</th>\n",
              "      <th>0.25</th>\n",
              "      <th>0.26</th>\n",
              "      <th>0.27</th>\n",
              "      <th>0.28</th>\n",
              "      <th>0.29</th>\n",
              "      <th>0.30</th>\n",
              "      <th>0.31</th>\n",
              "      <th>0.32</th>\n",
              "      <th>0.33</th>\n",
              "      <th>0.34</th>\n",
              "      <th>0.35</th>\n",
              "      <th>0.36</th>\n",
              "      <th>0.37</th>\n",
              "      <th>0.38</th>\n",
              "      <th>...</th>\n",
              "      <th>0.452</th>\n",
              "      <th>0.453</th>\n",
              "      <th>0.454</th>\n",
              "      <th>0.455</th>\n",
              "      <th>0.456</th>\n",
              "      <th>0.457</th>\n",
              "      <th>0.458</th>\n",
              "      <th>0.459</th>\n",
              "      <th>0.460</th>\n",
              "      <th>0.461</th>\n",
              "      <th>0.462</th>\n",
              "      <th>0.463</th>\n",
              "      <th>0.464</th>\n",
              "      <th>0.465</th>\n",
              "      <th>0.466</th>\n",
              "      <th>0.467</th>\n",
              "      <th>0.468</th>\n",
              "      <th>0.469</th>\n",
              "      <th>0.470</th>\n",
              "      <th>0.471</th>\n",
              "      <th>0.472</th>\n",
              "      <th>0.473</th>\n",
              "      <th>0.474</th>\n",
              "      <th>0.475</th>\n",
              "      <th>0.476</th>\n",
              "      <th>0.477</th>\n",
              "      <th>0.478</th>\n",
              "      <th>0.479</th>\n",
              "      <th>0.480</th>\n",
              "      <th>0.481</th>\n",
              "      <th>0.482</th>\n",
              "      <th>0.483</th>\n",
              "      <th>0.484</th>\n",
              "      <th>0.485</th>\n",
              "      <th>0.486</th>\n",
              "      <th>0.487</th>\n",
              "      <th>0.488</th>\n",
              "      <th>0.489</th>\n",
              "      <th>0.490</th>\n",
              "      <th>0.491</th>\n",
              "    </tr>\n",
              "  </thead>\n",
              "  <tbody>\n",
              "    <tr>\n",
              "      <th>0</th>\n",
              "      <td>37</td>\n",
              "      <td>0</td>\n",
              "      <td>0</td>\n",
              "      <td>0</td>\n",
              "      <td>0</td>\n",
              "      <td>0</td>\n",
              "      <td>0</td>\n",
              "      <td>0</td>\n",
              "      <td>0</td>\n",
              "      <td>0</td>\n",
              "      <td>0</td>\n",
              "      <td>0</td>\n",
              "      <td>0</td>\n",
              "      <td>0</td>\n",
              "      <td>0</td>\n",
              "      <td>0</td>\n",
              "      <td>0</td>\n",
              "      <td>0</td>\n",
              "      <td>0</td>\n",
              "      <td>0</td>\n",
              "      <td>0</td>\n",
              "      <td>0</td>\n",
              "      <td>0</td>\n",
              "      <td>0</td>\n",
              "      <td>0</td>\n",
              "      <td>0</td>\n",
              "      <td>0</td>\n",
              "      <td>0</td>\n",
              "      <td>0</td>\n",
              "      <td>0</td>\n",
              "      <td>0</td>\n",
              "      <td>0</td>\n",
              "      <td>0</td>\n",
              "      <td>0</td>\n",
              "      <td>0</td>\n",
              "      <td>0</td>\n",
              "      <td>0</td>\n",
              "      <td>0</td>\n",
              "      <td>0</td>\n",
              "      <td>0</td>\n",
              "      <td>...</td>\n",
              "      <td>0</td>\n",
              "      <td>0</td>\n",
              "      <td>0</td>\n",
              "      <td>0</td>\n",
              "      <td>0</td>\n",
              "      <td>0</td>\n",
              "      <td>0</td>\n",
              "      <td>0</td>\n",
              "      <td>0</td>\n",
              "      <td>0</td>\n",
              "      <td>0</td>\n",
              "      <td>0</td>\n",
              "      <td>0</td>\n",
              "      <td>0</td>\n",
              "      <td>0</td>\n",
              "      <td>0</td>\n",
              "      <td>0</td>\n",
              "      <td>0</td>\n",
              "      <td>0</td>\n",
              "      <td>0</td>\n",
              "      <td>0</td>\n",
              "      <td>0</td>\n",
              "      <td>0</td>\n",
              "      <td>0</td>\n",
              "      <td>0</td>\n",
              "      <td>0</td>\n",
              "      <td>0</td>\n",
              "      <td>0</td>\n",
              "      <td>0</td>\n",
              "      <td>0</td>\n",
              "      <td>0</td>\n",
              "      <td>0</td>\n",
              "      <td>0</td>\n",
              "      <td>0</td>\n",
              "      <td>0</td>\n",
              "      <td>0</td>\n",
              "      <td>0</td>\n",
              "      <td>0</td>\n",
              "      <td>0</td>\n",
              "      <td>0</td>\n",
              "    </tr>\n",
              "    <tr>\n",
              "      <th>1</th>\n",
              "      <td>46</td>\n",
              "      <td>0</td>\n",
              "      <td>0</td>\n",
              "      <td>0</td>\n",
              "      <td>0</td>\n",
              "      <td>0</td>\n",
              "      <td>0</td>\n",
              "      <td>0</td>\n",
              "      <td>0</td>\n",
              "      <td>0</td>\n",
              "      <td>0</td>\n",
              "      <td>0</td>\n",
              "      <td>0</td>\n",
              "      <td>0</td>\n",
              "      <td>0</td>\n",
              "      <td>0</td>\n",
              "      <td>0</td>\n",
              "      <td>0</td>\n",
              "      <td>0</td>\n",
              "      <td>0</td>\n",
              "      <td>0</td>\n",
              "      <td>0</td>\n",
              "      <td>0</td>\n",
              "      <td>0</td>\n",
              "      <td>0</td>\n",
              "      <td>0</td>\n",
              "      <td>0</td>\n",
              "      <td>0</td>\n",
              "      <td>0</td>\n",
              "      <td>0</td>\n",
              "      <td>0</td>\n",
              "      <td>0</td>\n",
              "      <td>0</td>\n",
              "      <td>0</td>\n",
              "      <td>0</td>\n",
              "      <td>0</td>\n",
              "      <td>0</td>\n",
              "      <td>0</td>\n",
              "      <td>0</td>\n",
              "      <td>0</td>\n",
              "      <td>...</td>\n",
              "      <td>234</td>\n",
              "      <td>231</td>\n",
              "      <td>228</td>\n",
              "      <td>175</td>\n",
              "      <td>34</td>\n",
              "      <td>0</td>\n",
              "      <td>0</td>\n",
              "      <td>0</td>\n",
              "      <td>0</td>\n",
              "      <td>0</td>\n",
              "      <td>0</td>\n",
              "      <td>0</td>\n",
              "      <td>0</td>\n",
              "      <td>0</td>\n",
              "      <td>0</td>\n",
              "      <td>0</td>\n",
              "      <td>0</td>\n",
              "      <td>0</td>\n",
              "      <td>0</td>\n",
              "      <td>0</td>\n",
              "      <td>0</td>\n",
              "      <td>0</td>\n",
              "      <td>0</td>\n",
              "      <td>0</td>\n",
              "      <td>0</td>\n",
              "      <td>0</td>\n",
              "      <td>0</td>\n",
              "      <td>0</td>\n",
              "      <td>0</td>\n",
              "      <td>0</td>\n",
              "      <td>0</td>\n",
              "      <td>0</td>\n",
              "      <td>0</td>\n",
              "      <td>0</td>\n",
              "      <td>0</td>\n",
              "      <td>0</td>\n",
              "      <td>0</td>\n",
              "      <td>0</td>\n",
              "      <td>0</td>\n",
              "      <td>0</td>\n",
              "    </tr>\n",
              "    <tr>\n",
              "      <th>2</th>\n",
              "      <td>37</td>\n",
              "      <td>0</td>\n",
              "      <td>0</td>\n",
              "      <td>0</td>\n",
              "      <td>0</td>\n",
              "      <td>0</td>\n",
              "      <td>0</td>\n",
              "      <td>0</td>\n",
              "      <td>0</td>\n",
              "      <td>0</td>\n",
              "      <td>0</td>\n",
              "      <td>0</td>\n",
              "      <td>0</td>\n",
              "      <td>0</td>\n",
              "      <td>0</td>\n",
              "      <td>0</td>\n",
              "      <td>0</td>\n",
              "      <td>0</td>\n",
              "      <td>0</td>\n",
              "      <td>0</td>\n",
              "      <td>0</td>\n",
              "      <td>0</td>\n",
              "      <td>0</td>\n",
              "      <td>0</td>\n",
              "      <td>0</td>\n",
              "      <td>0</td>\n",
              "      <td>0</td>\n",
              "      <td>0</td>\n",
              "      <td>0</td>\n",
              "      <td>0</td>\n",
              "      <td>0</td>\n",
              "      <td>0</td>\n",
              "      <td>0</td>\n",
              "      <td>0</td>\n",
              "      <td>0</td>\n",
              "      <td>0</td>\n",
              "      <td>0</td>\n",
              "      <td>0</td>\n",
              "      <td>0</td>\n",
              "      <td>0</td>\n",
              "      <td>...</td>\n",
              "      <td>213</td>\n",
              "      <td>165</td>\n",
              "      <td>123</td>\n",
              "      <td>0</td>\n",
              "      <td>0</td>\n",
              "      <td>0</td>\n",
              "      <td>0</td>\n",
              "      <td>0</td>\n",
              "      <td>0</td>\n",
              "      <td>0</td>\n",
              "      <td>0</td>\n",
              "      <td>0</td>\n",
              "      <td>0</td>\n",
              "      <td>0</td>\n",
              "      <td>0</td>\n",
              "      <td>0</td>\n",
              "      <td>0</td>\n",
              "      <td>0</td>\n",
              "      <td>0</td>\n",
              "      <td>0</td>\n",
              "      <td>0</td>\n",
              "      <td>0</td>\n",
              "      <td>0</td>\n",
              "      <td>0</td>\n",
              "      <td>0</td>\n",
              "      <td>0</td>\n",
              "      <td>0</td>\n",
              "      <td>0</td>\n",
              "      <td>0</td>\n",
              "      <td>0</td>\n",
              "      <td>0</td>\n",
              "      <td>0</td>\n",
              "      <td>0</td>\n",
              "      <td>0</td>\n",
              "      <td>0</td>\n",
              "      <td>0</td>\n",
              "      <td>0</td>\n",
              "      <td>0</td>\n",
              "      <td>0</td>\n",
              "      <td>0</td>\n",
              "    </tr>\n",
              "    <tr>\n",
              "      <th>3</th>\n",
              "      <td>55</td>\n",
              "      <td>0</td>\n",
              "      <td>0</td>\n",
              "      <td>0</td>\n",
              "      <td>0</td>\n",
              "      <td>0</td>\n",
              "      <td>0</td>\n",
              "      <td>0</td>\n",
              "      <td>0</td>\n",
              "      <td>0</td>\n",
              "      <td>0</td>\n",
              "      <td>0</td>\n",
              "      <td>0</td>\n",
              "      <td>0</td>\n",
              "      <td>0</td>\n",
              "      <td>0</td>\n",
              "      <td>0</td>\n",
              "      <td>0</td>\n",
              "      <td>0</td>\n",
              "      <td>0</td>\n",
              "      <td>0</td>\n",
              "      <td>0</td>\n",
              "      <td>0</td>\n",
              "      <td>0</td>\n",
              "      <td>0</td>\n",
              "      <td>0</td>\n",
              "      <td>0</td>\n",
              "      <td>0</td>\n",
              "      <td>0</td>\n",
              "      <td>0</td>\n",
              "      <td>0</td>\n",
              "      <td>0</td>\n",
              "      <td>0</td>\n",
              "      <td>0</td>\n",
              "      <td>0</td>\n",
              "      <td>0</td>\n",
              "      <td>0</td>\n",
              "      <td>0</td>\n",
              "      <td>0</td>\n",
              "      <td>0</td>\n",
              "      <td>...</td>\n",
              "      <td>0</td>\n",
              "      <td>0</td>\n",
              "      <td>0</td>\n",
              "      <td>0</td>\n",
              "      <td>0</td>\n",
              "      <td>0</td>\n",
              "      <td>0</td>\n",
              "      <td>0</td>\n",
              "      <td>0</td>\n",
              "      <td>0</td>\n",
              "      <td>0</td>\n",
              "      <td>0</td>\n",
              "      <td>0</td>\n",
              "      <td>0</td>\n",
              "      <td>0</td>\n",
              "      <td>0</td>\n",
              "      <td>0</td>\n",
              "      <td>0</td>\n",
              "      <td>0</td>\n",
              "      <td>0</td>\n",
              "      <td>0</td>\n",
              "      <td>0</td>\n",
              "      <td>0</td>\n",
              "      <td>0</td>\n",
              "      <td>0</td>\n",
              "      <td>0</td>\n",
              "      <td>0</td>\n",
              "      <td>0</td>\n",
              "      <td>0</td>\n",
              "      <td>0</td>\n",
              "      <td>0</td>\n",
              "      <td>0</td>\n",
              "      <td>0</td>\n",
              "      <td>0</td>\n",
              "      <td>0</td>\n",
              "      <td>0</td>\n",
              "      <td>0</td>\n",
              "      <td>0</td>\n",
              "      <td>0</td>\n",
              "      <td>0</td>\n",
              "    </tr>\n",
              "    <tr>\n",
              "      <th>4</th>\n",
              "      <td>32</td>\n",
              "      <td>0</td>\n",
              "      <td>0</td>\n",
              "      <td>0</td>\n",
              "      <td>0</td>\n",
              "      <td>0</td>\n",
              "      <td>0</td>\n",
              "      <td>0</td>\n",
              "      <td>0</td>\n",
              "      <td>0</td>\n",
              "      <td>0</td>\n",
              "      <td>0</td>\n",
              "      <td>0</td>\n",
              "      <td>0</td>\n",
              "      <td>0</td>\n",
              "      <td>0</td>\n",
              "      <td>0</td>\n",
              "      <td>0</td>\n",
              "      <td>0</td>\n",
              "      <td>0</td>\n",
              "      <td>0</td>\n",
              "      <td>0</td>\n",
              "      <td>0</td>\n",
              "      <td>0</td>\n",
              "      <td>0</td>\n",
              "      <td>0</td>\n",
              "      <td>0</td>\n",
              "      <td>0</td>\n",
              "      <td>0</td>\n",
              "      <td>0</td>\n",
              "      <td>0</td>\n",
              "      <td>0</td>\n",
              "      <td>0</td>\n",
              "      <td>0</td>\n",
              "      <td>0</td>\n",
              "      <td>0</td>\n",
              "      <td>0</td>\n",
              "      <td>0</td>\n",
              "      <td>0</td>\n",
              "      <td>0</td>\n",
              "      <td>...</td>\n",
              "      <td>0</td>\n",
              "      <td>0</td>\n",
              "      <td>0</td>\n",
              "      <td>0</td>\n",
              "      <td>0</td>\n",
              "      <td>0</td>\n",
              "      <td>0</td>\n",
              "      <td>0</td>\n",
              "      <td>0</td>\n",
              "      <td>0</td>\n",
              "      <td>0</td>\n",
              "      <td>0</td>\n",
              "      <td>0</td>\n",
              "      <td>0</td>\n",
              "      <td>0</td>\n",
              "      <td>0</td>\n",
              "      <td>0</td>\n",
              "      <td>0</td>\n",
              "      <td>0</td>\n",
              "      <td>0</td>\n",
              "      <td>0</td>\n",
              "      <td>0</td>\n",
              "      <td>0</td>\n",
              "      <td>0</td>\n",
              "      <td>0</td>\n",
              "      <td>0</td>\n",
              "      <td>0</td>\n",
              "      <td>0</td>\n",
              "      <td>0</td>\n",
              "      <td>0</td>\n",
              "      <td>0</td>\n",
              "      <td>0</td>\n",
              "      <td>0</td>\n",
              "      <td>0</td>\n",
              "      <td>0</td>\n",
              "      <td>0</td>\n",
              "      <td>0</td>\n",
              "      <td>0</td>\n",
              "      <td>0</td>\n",
              "      <td>0</td>\n",
              "    </tr>\n",
              "  </tbody>\n",
              "</table>\n",
              "<p>5 rows × 785 columns</p>\n",
              "</div>"
            ],
            "text/plain": [
              "   38  0  0.1  0.2  0.3  0.4  ...  0.486  0.487  0.488  0.489  0.490  0.491\n",
              "0  37  0    0    0    0    0  ...      0      0      0      0      0      0\n",
              "1  46  0    0    0    0    0  ...      0      0      0      0      0      0\n",
              "2  37  0    0    0    0    0  ...      0      0      0      0      0      0\n",
              "3  55  0    0    0    0    0  ...      0      0      0      0      0      0\n",
              "4  32  0    0    0    0    0  ...      0      0      0      0      0      0\n",
              "\n",
              "[5 rows x 785 columns]"
            ]
          },
          "metadata": {
            "tags": []
          },
          "execution_count": 8
        }
      ]
    },
    {
      "cell_type": "code",
      "metadata": {
        "colab": {
          "base_uri": "https://localhost:8080/",
          "height": 253
        },
        "id": "VJKqiKEUsjpf",
        "outputId": "4fb95e36-37f6-4ec2-98b6-f3b7e9b44adc"
      },
      "source": [
        "df_letters = pd.read_csv('HMCC_letters_merged.csv', delimiter = ',')\n",
        "df_letters.head()"
      ],
      "execution_count": null,
      "outputs": [
        {
          "output_type": "execute_result",
          "data": {
            "text/html": [
              "<div>\n",
              "<style scoped>\n",
              "    .dataframe tbody tr th:only-of-type {\n",
              "        vertical-align: middle;\n",
              "    }\n",
              "\n",
              "    .dataframe tbody tr th {\n",
              "        vertical-align: top;\n",
              "    }\n",
              "\n",
              "    .dataframe thead th {\n",
              "        text-align: right;\n",
              "    }\n",
              "</style>\n",
              "<table border=\"1\" class=\"dataframe\">\n",
              "  <thead>\n",
              "    <tr style=\"text-align: right;\">\n",
              "      <th></th>\n",
              "      <th>31</th>\n",
              "      <th>0</th>\n",
              "      <th>0.1</th>\n",
              "      <th>0.2</th>\n",
              "      <th>0.3</th>\n",
              "      <th>0.4</th>\n",
              "      <th>0.5</th>\n",
              "      <th>0.6</th>\n",
              "      <th>0.7</th>\n",
              "      <th>0.8</th>\n",
              "      <th>0.9</th>\n",
              "      <th>0.10</th>\n",
              "      <th>0.11</th>\n",
              "      <th>0.12</th>\n",
              "      <th>0.13</th>\n",
              "      <th>0.14</th>\n",
              "      <th>0.15</th>\n",
              "      <th>0.16</th>\n",
              "      <th>0.17</th>\n",
              "      <th>0.18</th>\n",
              "      <th>0.19</th>\n",
              "      <th>0.20</th>\n",
              "      <th>0.21</th>\n",
              "      <th>0.22</th>\n",
              "      <th>0.23</th>\n",
              "      <th>0.24</th>\n",
              "      <th>0.25</th>\n",
              "      <th>0.26</th>\n",
              "      <th>0.27</th>\n",
              "      <th>0.28</th>\n",
              "      <th>0.29</th>\n",
              "      <th>0.30</th>\n",
              "      <th>0.31</th>\n",
              "      <th>0.32</th>\n",
              "      <th>0.33</th>\n",
              "      <th>0.34</th>\n",
              "      <th>0.35</th>\n",
              "      <th>0.36</th>\n",
              "      <th>0.37</th>\n",
              "      <th>0.38</th>\n",
              "      <th>...</th>\n",
              "      <th>0.484</th>\n",
              "      <th>0.485</th>\n",
              "      <th>0.486</th>\n",
              "      <th>0.487</th>\n",
              "      <th>0.488</th>\n",
              "      <th>0.489</th>\n",
              "      <th>0.490</th>\n",
              "      <th>0.491</th>\n",
              "      <th>0.492</th>\n",
              "      <th>0.493</th>\n",
              "      <th>0.494</th>\n",
              "      <th>0.495</th>\n",
              "      <th>0.496</th>\n",
              "      <th>0.497</th>\n",
              "      <th>0.498</th>\n",
              "      <th>0.499</th>\n",
              "      <th>0.500</th>\n",
              "      <th>0.501</th>\n",
              "      <th>0.502</th>\n",
              "      <th>0.503</th>\n",
              "      <th>0.504</th>\n",
              "      <th>0.505</th>\n",
              "      <th>0.506</th>\n",
              "      <th>0.507</th>\n",
              "      <th>0.508</th>\n",
              "      <th>0.509</th>\n",
              "      <th>0.510</th>\n",
              "      <th>0.511</th>\n",
              "      <th>0.512</th>\n",
              "      <th>0.513</th>\n",
              "      <th>0.514</th>\n",
              "      <th>0.515</th>\n",
              "      <th>0.516</th>\n",
              "      <th>0.517</th>\n",
              "      <th>0.518</th>\n",
              "      <th>0.519</th>\n",
              "      <th>0.520</th>\n",
              "      <th>0.521</th>\n",
              "      <th>0.522</th>\n",
              "      <th>0.523</th>\n",
              "    </tr>\n",
              "  </thead>\n",
              "  <tbody>\n",
              "    <tr>\n",
              "      <th>0</th>\n",
              "      <td>27</td>\n",
              "      <td>0</td>\n",
              "      <td>0</td>\n",
              "      <td>0</td>\n",
              "      <td>0</td>\n",
              "      <td>0</td>\n",
              "      <td>0</td>\n",
              "      <td>0</td>\n",
              "      <td>0</td>\n",
              "      <td>0</td>\n",
              "      <td>0</td>\n",
              "      <td>0</td>\n",
              "      <td>0</td>\n",
              "      <td>0</td>\n",
              "      <td>0</td>\n",
              "      <td>0</td>\n",
              "      <td>0</td>\n",
              "      <td>0</td>\n",
              "      <td>0</td>\n",
              "      <td>0</td>\n",
              "      <td>0</td>\n",
              "      <td>0</td>\n",
              "      <td>0</td>\n",
              "      <td>0</td>\n",
              "      <td>0</td>\n",
              "      <td>0</td>\n",
              "      <td>0</td>\n",
              "      <td>0</td>\n",
              "      <td>0</td>\n",
              "      <td>0</td>\n",
              "      <td>0</td>\n",
              "      <td>0</td>\n",
              "      <td>0</td>\n",
              "      <td>0</td>\n",
              "      <td>0</td>\n",
              "      <td>0</td>\n",
              "      <td>0</td>\n",
              "      <td>0</td>\n",
              "      <td>0</td>\n",
              "      <td>0</td>\n",
              "      <td>...</td>\n",
              "      <td>0</td>\n",
              "      <td>0</td>\n",
              "      <td>0</td>\n",
              "      <td>0</td>\n",
              "      <td>0</td>\n",
              "      <td>0</td>\n",
              "      <td>0</td>\n",
              "      <td>0</td>\n",
              "      <td>0</td>\n",
              "      <td>0</td>\n",
              "      <td>0</td>\n",
              "      <td>0</td>\n",
              "      <td>0</td>\n",
              "      <td>0</td>\n",
              "      <td>0</td>\n",
              "      <td>0</td>\n",
              "      <td>0</td>\n",
              "      <td>0</td>\n",
              "      <td>0</td>\n",
              "      <td>0</td>\n",
              "      <td>0</td>\n",
              "      <td>0</td>\n",
              "      <td>0</td>\n",
              "      <td>0</td>\n",
              "      <td>0</td>\n",
              "      <td>0</td>\n",
              "      <td>0</td>\n",
              "      <td>0</td>\n",
              "      <td>0</td>\n",
              "      <td>0</td>\n",
              "      <td>0</td>\n",
              "      <td>0</td>\n",
              "      <td>0</td>\n",
              "      <td>0</td>\n",
              "      <td>0</td>\n",
              "      <td>0</td>\n",
              "      <td>0</td>\n",
              "      <td>0</td>\n",
              "      <td>0</td>\n",
              "      <td>0</td>\n",
              "    </tr>\n",
              "    <tr>\n",
              "      <th>1</th>\n",
              "      <td>30</td>\n",
              "      <td>0</td>\n",
              "      <td>0</td>\n",
              "      <td>0</td>\n",
              "      <td>0</td>\n",
              "      <td>0</td>\n",
              "      <td>0</td>\n",
              "      <td>0</td>\n",
              "      <td>0</td>\n",
              "      <td>0</td>\n",
              "      <td>0</td>\n",
              "      <td>0</td>\n",
              "      <td>0</td>\n",
              "      <td>0</td>\n",
              "      <td>0</td>\n",
              "      <td>0</td>\n",
              "      <td>0</td>\n",
              "      <td>0</td>\n",
              "      <td>0</td>\n",
              "      <td>0</td>\n",
              "      <td>0</td>\n",
              "      <td>0</td>\n",
              "      <td>0</td>\n",
              "      <td>0</td>\n",
              "      <td>0</td>\n",
              "      <td>0</td>\n",
              "      <td>0</td>\n",
              "      <td>0</td>\n",
              "      <td>0</td>\n",
              "      <td>0</td>\n",
              "      <td>0</td>\n",
              "      <td>0</td>\n",
              "      <td>0</td>\n",
              "      <td>0</td>\n",
              "      <td>0</td>\n",
              "      <td>0</td>\n",
              "      <td>0</td>\n",
              "      <td>0</td>\n",
              "      <td>0</td>\n",
              "      <td>0</td>\n",
              "      <td>...</td>\n",
              "      <td>0</td>\n",
              "      <td>0</td>\n",
              "      <td>0</td>\n",
              "      <td>0</td>\n",
              "      <td>0</td>\n",
              "      <td>0</td>\n",
              "      <td>0</td>\n",
              "      <td>0</td>\n",
              "      <td>0</td>\n",
              "      <td>0</td>\n",
              "      <td>0</td>\n",
              "      <td>0</td>\n",
              "      <td>0</td>\n",
              "      <td>0</td>\n",
              "      <td>0</td>\n",
              "      <td>0</td>\n",
              "      <td>0</td>\n",
              "      <td>0</td>\n",
              "      <td>0</td>\n",
              "      <td>0</td>\n",
              "      <td>0</td>\n",
              "      <td>0</td>\n",
              "      <td>0</td>\n",
              "      <td>0</td>\n",
              "      <td>0</td>\n",
              "      <td>0</td>\n",
              "      <td>0</td>\n",
              "      <td>0</td>\n",
              "      <td>0</td>\n",
              "      <td>0</td>\n",
              "      <td>0</td>\n",
              "      <td>0</td>\n",
              "      <td>0</td>\n",
              "      <td>0</td>\n",
              "      <td>0</td>\n",
              "      <td>0</td>\n",
              "      <td>0</td>\n",
              "      <td>0</td>\n",
              "      <td>0</td>\n",
              "      <td>0</td>\n",
              "    </tr>\n",
              "    <tr>\n",
              "      <th>2</th>\n",
              "      <td>29</td>\n",
              "      <td>0</td>\n",
              "      <td>0</td>\n",
              "      <td>0</td>\n",
              "      <td>0</td>\n",
              "      <td>0</td>\n",
              "      <td>0</td>\n",
              "      <td>0</td>\n",
              "      <td>0</td>\n",
              "      <td>0</td>\n",
              "      <td>0</td>\n",
              "      <td>0</td>\n",
              "      <td>0</td>\n",
              "      <td>0</td>\n",
              "      <td>0</td>\n",
              "      <td>0</td>\n",
              "      <td>0</td>\n",
              "      <td>0</td>\n",
              "      <td>0</td>\n",
              "      <td>0</td>\n",
              "      <td>0</td>\n",
              "      <td>0</td>\n",
              "      <td>0</td>\n",
              "      <td>0</td>\n",
              "      <td>0</td>\n",
              "      <td>0</td>\n",
              "      <td>0</td>\n",
              "      <td>0</td>\n",
              "      <td>0</td>\n",
              "      <td>0</td>\n",
              "      <td>0</td>\n",
              "      <td>0</td>\n",
              "      <td>0</td>\n",
              "      <td>0</td>\n",
              "      <td>0</td>\n",
              "      <td>0</td>\n",
              "      <td>0</td>\n",
              "      <td>0</td>\n",
              "      <td>0</td>\n",
              "      <td>0</td>\n",
              "      <td>...</td>\n",
              "      <td>192</td>\n",
              "      <td>192</td>\n",
              "      <td>165</td>\n",
              "      <td>103</td>\n",
              "      <td>0</td>\n",
              "      <td>0</td>\n",
              "      <td>0</td>\n",
              "      <td>0</td>\n",
              "      <td>0</td>\n",
              "      <td>0</td>\n",
              "      <td>0</td>\n",
              "      <td>0</td>\n",
              "      <td>0</td>\n",
              "      <td>0</td>\n",
              "      <td>0</td>\n",
              "      <td>0</td>\n",
              "      <td>0</td>\n",
              "      <td>0</td>\n",
              "      <td>0</td>\n",
              "      <td>0</td>\n",
              "      <td>0</td>\n",
              "      <td>0</td>\n",
              "      <td>0</td>\n",
              "      <td>0</td>\n",
              "      <td>0</td>\n",
              "      <td>0</td>\n",
              "      <td>0</td>\n",
              "      <td>0</td>\n",
              "      <td>0</td>\n",
              "      <td>0</td>\n",
              "      <td>0</td>\n",
              "      <td>0</td>\n",
              "      <td>0</td>\n",
              "      <td>0</td>\n",
              "      <td>0</td>\n",
              "      <td>0</td>\n",
              "      <td>0</td>\n",
              "      <td>0</td>\n",
              "      <td>0</td>\n",
              "      <td>0</td>\n",
              "    </tr>\n",
              "    <tr>\n",
              "      <th>3</th>\n",
              "      <td>31</td>\n",
              "      <td>0</td>\n",
              "      <td>0</td>\n",
              "      <td>0</td>\n",
              "      <td>0</td>\n",
              "      <td>0</td>\n",
              "      <td>0</td>\n",
              "      <td>0</td>\n",
              "      <td>0</td>\n",
              "      <td>0</td>\n",
              "      <td>0</td>\n",
              "      <td>0</td>\n",
              "      <td>0</td>\n",
              "      <td>0</td>\n",
              "      <td>0</td>\n",
              "      <td>0</td>\n",
              "      <td>0</td>\n",
              "      <td>0</td>\n",
              "      <td>0</td>\n",
              "      <td>0</td>\n",
              "      <td>0</td>\n",
              "      <td>0</td>\n",
              "      <td>0</td>\n",
              "      <td>0</td>\n",
              "      <td>0</td>\n",
              "      <td>0</td>\n",
              "      <td>0</td>\n",
              "      <td>0</td>\n",
              "      <td>0</td>\n",
              "      <td>0</td>\n",
              "      <td>0</td>\n",
              "      <td>0</td>\n",
              "      <td>0</td>\n",
              "      <td>0</td>\n",
              "      <td>0</td>\n",
              "      <td>0</td>\n",
              "      <td>0</td>\n",
              "      <td>0</td>\n",
              "      <td>0</td>\n",
              "      <td>0</td>\n",
              "      <td>...</td>\n",
              "      <td>0</td>\n",
              "      <td>0</td>\n",
              "      <td>0</td>\n",
              "      <td>0</td>\n",
              "      <td>0</td>\n",
              "      <td>0</td>\n",
              "      <td>0</td>\n",
              "      <td>0</td>\n",
              "      <td>0</td>\n",
              "      <td>0</td>\n",
              "      <td>0</td>\n",
              "      <td>0</td>\n",
              "      <td>0</td>\n",
              "      <td>0</td>\n",
              "      <td>0</td>\n",
              "      <td>0</td>\n",
              "      <td>0</td>\n",
              "      <td>0</td>\n",
              "      <td>0</td>\n",
              "      <td>0</td>\n",
              "      <td>0</td>\n",
              "      <td>0</td>\n",
              "      <td>0</td>\n",
              "      <td>0</td>\n",
              "      <td>0</td>\n",
              "      <td>0</td>\n",
              "      <td>0</td>\n",
              "      <td>0</td>\n",
              "      <td>0</td>\n",
              "      <td>0</td>\n",
              "      <td>0</td>\n",
              "      <td>0</td>\n",
              "      <td>0</td>\n",
              "      <td>0</td>\n",
              "      <td>0</td>\n",
              "      <td>0</td>\n",
              "      <td>0</td>\n",
              "      <td>0</td>\n",
              "      <td>0</td>\n",
              "      <td>0</td>\n",
              "    </tr>\n",
              "    <tr>\n",
              "      <th>4</th>\n",
              "      <td>26</td>\n",
              "      <td>0</td>\n",
              "      <td>0</td>\n",
              "      <td>0</td>\n",
              "      <td>0</td>\n",
              "      <td>0</td>\n",
              "      <td>0</td>\n",
              "      <td>0</td>\n",
              "      <td>0</td>\n",
              "      <td>0</td>\n",
              "      <td>0</td>\n",
              "      <td>0</td>\n",
              "      <td>0</td>\n",
              "      <td>0</td>\n",
              "      <td>0</td>\n",
              "      <td>0</td>\n",
              "      <td>0</td>\n",
              "      <td>0</td>\n",
              "      <td>0</td>\n",
              "      <td>0</td>\n",
              "      <td>0</td>\n",
              "      <td>0</td>\n",
              "      <td>0</td>\n",
              "      <td>0</td>\n",
              "      <td>0</td>\n",
              "      <td>0</td>\n",
              "      <td>0</td>\n",
              "      <td>0</td>\n",
              "      <td>0</td>\n",
              "      <td>0</td>\n",
              "      <td>0</td>\n",
              "      <td>0</td>\n",
              "      <td>0</td>\n",
              "      <td>0</td>\n",
              "      <td>0</td>\n",
              "      <td>0</td>\n",
              "      <td>0</td>\n",
              "      <td>0</td>\n",
              "      <td>0</td>\n",
              "      <td>0</td>\n",
              "      <td>...</td>\n",
              "      <td>136</td>\n",
              "      <td>105</td>\n",
              "      <td>77</td>\n",
              "      <td>46</td>\n",
              "      <td>17</td>\n",
              "      <td>0</td>\n",
              "      <td>0</td>\n",
              "      <td>0</td>\n",
              "      <td>0</td>\n",
              "      <td>0</td>\n",
              "      <td>0</td>\n",
              "      <td>0</td>\n",
              "      <td>0</td>\n",
              "      <td>0</td>\n",
              "      <td>0</td>\n",
              "      <td>0</td>\n",
              "      <td>0</td>\n",
              "      <td>0</td>\n",
              "      <td>0</td>\n",
              "      <td>0</td>\n",
              "      <td>0</td>\n",
              "      <td>0</td>\n",
              "      <td>0</td>\n",
              "      <td>0</td>\n",
              "      <td>0</td>\n",
              "      <td>0</td>\n",
              "      <td>0</td>\n",
              "      <td>0</td>\n",
              "      <td>0</td>\n",
              "      <td>0</td>\n",
              "      <td>0</td>\n",
              "      <td>0</td>\n",
              "      <td>0</td>\n",
              "      <td>0</td>\n",
              "      <td>0</td>\n",
              "      <td>0</td>\n",
              "      <td>0</td>\n",
              "      <td>0</td>\n",
              "      <td>0</td>\n",
              "      <td>0</td>\n",
              "    </tr>\n",
              "  </tbody>\n",
              "</table>\n",
              "<p>5 rows × 785 columns</p>\n",
              "</div>"
            ],
            "text/plain": [
              "   31  0  0.1  0.2  0.3  0.4  ...  0.518  0.519  0.520  0.521  0.522  0.523\n",
              "0  27  0    0    0    0    0  ...      0      0      0      0      0      0\n",
              "1  30  0    0    0    0    0  ...      0      0      0      0      0      0\n",
              "2  29  0    0    0    0    0  ...      0      0      0      0      0      0\n",
              "3  31  0    0    0    0    0  ...      0      0      0      0      0      0\n",
              "4  26  0    0    0    0    0  ...      0      0      0      0      0      0\n",
              "\n",
              "[5 rows x 785 columns]"
            ]
          },
          "metadata": {
            "tags": []
          },
          "execution_count": 9
        }
      ]
    },
    {
      "cell_type": "markdown",
      "metadata": {
        "id": "0C1pb32Newbr"
      },
      "source": [
        "### Here is a diagram that shows what actions will be taken. "
      ]
    },
    {
      "cell_type": "markdown",
      "metadata": {
        "id": "VpSdsWsIc_yw"
      },
      "source": [
        "![Untitled Diagram.png](data:image/png;base64,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)"
      ]
    },
    {
      "cell_type": "markdown",
      "metadata": {
        "id": "caBHXGiLc2yC"
      },
      "source": [
        "# HMCC_letters "
      ]
    },
    {
      "cell_type": "markdown",
      "metadata": {
        "id": "VPR5caoqUL56"
      },
      "source": [
        "### Splitting data into the train and test (validation)."
      ]
    },
    {
      "cell_type": "markdown",
      "metadata": {
        "id": "00o0zuCjfUDT"
      },
      "source": [
        "We will use a 1/6 ratio to split data into the train and valid.  "
      ]
    },
    {
      "cell_type": "code",
      "metadata": {
        "id": "DqkuOeVmUg5H"
      },
      "source": [
        "#All images will be stored in this  folder: \n",
        "os.mkdir('/root/img_data/')"
      ],
      "execution_count": null,
      "outputs": []
    },
    {
      "cell_type": "code",
      "metadata": {
        "colab": {
          "base_uri": "https://localhost:8080/"
        },
        "id": "Li84N3c-VJ18",
        "outputId": "26dfc4e7-54ed-4e44-8ebf-e0b3edd4abcd"
      },
      "source": [
        "%cd '/root/img_data/'"
      ],
      "execution_count": null,
      "outputs": [
        {
          "output_type": "stream",
          "text": [
            "/root/img_data\n"
          ],
          "name": "stdout"
        }
      ]
    },
    {
      "cell_type": "markdown",
      "metadata": {
        "id": "veWm84vvWA7T"
      },
      "source": [
        "#### Preparing the training data "
      ]
    },
    {
      "cell_type": "code",
      "metadata": {
        "colab": {
          "base_uri": "https://localhost:8080/"
        },
        "id": "FZCrrSewWLoD",
        "outputId": "0a18889a-75a0-47e4-bbf3-79461cdf4cac"
      },
      "source": [
        "os.mkdir('train')\n",
        "%cd '/root/img_data/train'\n",
        "\n",
        "for n in range(0,66):\n",
        "  os.mkdir(str(n))\n",
        "\n",
        "for index, row in df_letters.iloc[30624:183748].iterrows():\n",
        "  fname = row.values[0]\n",
        "  image = np.array(row.values[1:]).reshape(28,28)\n",
        "  image = Image.fromarray(image.astype(np.uint8))\n",
        "  image.save(str(fname)+\"/\"+str(index)+\".png\")"
      ],
      "execution_count": null,
      "outputs": [
        {
          "output_type": "stream",
          "text": [
            "/root/img_data/train\n"
          ],
          "name": "stdout"
        }
      ]
    },
    {
      "cell_type": "markdown",
      "metadata": {
        "id": "rLdNaWOwltBT"
      },
      "source": [
        "#### Preparing the validation data"
      ]
    },
    {
      "cell_type": "code",
      "metadata": {
        "colab": {
          "base_uri": "https://localhost:8080/"
        },
        "id": "rT4N6llilw_J",
        "outputId": "9d10f76d-6085-4408-c89e-d52d1517a836"
      },
      "source": [
        "%cd '/root/img_data/'\n",
        "os.mkdir('test')\n",
        "%cd '/root/img_data/test'\n",
        "\n",
        "for n in range(0,66):\n",
        "  os.mkdir(str(n))\n",
        "\n",
        "for index, row in df_letters.iloc[0:30624].iterrows():\n",
        "  fname = row.values[0]\n",
        "  image = np.array(row.values[1:]).reshape(28,28)\n",
        "  image = Image.fromarray(image.astype(np.uint8))\n",
        "  image.save(str(fname)+\"/\"+str(index)+\".png\")"
      ],
      "execution_count": null,
      "outputs": [
        {
          "output_type": "stream",
          "text": [
            "/root/img_data\n",
            "/root/img_data/test\n"
          ],
          "name": "stdout"
        }
      ]
    },
    {
      "cell_type": "markdown",
      "metadata": {
        "id": "mLD_4l0gnzAT"
      },
      "source": [
        "### Creating DataLoader"
      ]
    },
    {
      "cell_type": "code",
      "metadata": {
        "id": "xVDODU6Mn0z7"
      },
      "source": [
        "path = '/root/img_data/'\n",
        "dls = ImageDataLoaders.from_folder(path, train='train', valid='test')"
      ],
      "execution_count": null,
      "outputs": []
    },
    {
      "cell_type": "code",
      "metadata": {
        "id": "qsMBPYA7oBXc"
      },
      "source": [
        "fnames = get_image_files(path)"
      ],
      "execution_count": null,
      "outputs": []
    },
    {
      "cell_type": "code",
      "metadata": {
        "colab": {
          "base_uri": "https://localhost:8080/"
        },
        "id": "EPCVOUtLop2g",
        "outputId": "9c3a66d2-01c9-4f03-f41d-3b3a8dce7270"
      },
      "source": [
        "len(fnames)"
      ],
      "execution_count": null,
      "outputs": [
        {
          "output_type": "execute_result",
          "data": {
            "text/plain": [
              "183748"
            ]
          },
          "metadata": {
            "tags": []
          },
          "execution_count": 17
        }
      ]
    },
    {
      "cell_type": "code",
      "metadata": {
        "colab": {
          "base_uri": "https://localhost:8080/"
        },
        "id": "0_USpkqZtSdN",
        "outputId": "57476221-3267-4e85-f7ac-99c411e48a95"
      },
      "source": [
        "fnames[183747]"
      ],
      "execution_count": null,
      "outputs": [
        {
          "output_type": "execute_result",
          "data": {
            "text/plain": [
              "Path('/root/img_data/test/14/24403.png')"
            ]
          },
          "metadata": {
            "tags": []
          },
          "execution_count": 19
        }
      ]
    },
    {
      "cell_type": "markdown",
      "metadata": {
        "id": "cmZGVzdav-35"
      },
      "source": [
        "## Training the image classifier"
      ]
    },
    {
      "cell_type": "code",
      "metadata": {
        "colab": {
          "base_uri": "https://localhost:8080/",
          "height": 536
        },
        "id": "W3q0fTRywDBN",
        "outputId": "5834baf7-ea8c-4eab-9d56-73a8b7f96ec5"
      },
      "source": [
        "dls.valid.show_batch()"
      ],
      "execution_count": null,
      "outputs": [
        {
          "output_type": "display_data",
          "data": {
            "image/png": "[encoded data removed]",
            "text/plain": [
              "<Figure size 648x648 with 9 Axes>"
            ]
          },
          "metadata": {
            "tags": [],
            "needs_background": "light"
          }
        }
      ]
    },
    {
      "cell_type": "markdown",
      "metadata": {
        "id": "1MkyN_A2gGvG"
      },
      "source": [
        "- We are using a default size of batch. The reason why I am not increasing the size is to prevent overfitting. The default will work fine. \n",
        "- We are not going to do transfer learning. So, I chose \"pretrained = False\". Also, I have to use \"learn.fit\" instead of \"learn.fine_tune\". "
      ]
    },
    {
      "cell_type": "code",
      "metadata": {
        "colab": {
          "base_uri": "https://localhost:8080/",
          "height": 359
        },
        "id": "EA9R5ApiwgKz",
        "outputId": "251193c0-7029-41d9-89fb-ad110bcc272b"
      },
      "source": [
        "learn = cnn_learner(dls, resnet18, metrics=accuracy, pretrained=False)\n",
        "learn.fit(10)"
      ],
      "execution_count": null,
      "outputs": [
        {
          "output_type": "display_data",
          "data": {
            "text/html": [
              "<table border=\"1\" class=\"dataframe\">\n",
              "  <thead>\n",
              "    <tr style=\"text-align: left;\">\n",
              "      <th>epoch</th>\n",
              "      <th>train_loss</th>\n",
              "      <th>valid_loss</th>\n",
              "      <th>accuracy</th>\n",
              "      <th>time</th>\n",
              "    </tr>\n",
              "  </thead>\n",
              "  <tbody>\n",
              "    <tr>\n",
              "      <td>0</td>\n",
              "      <td>0.385834</td>\n",
              "      <td>0.392214</td>\n",
              "      <td>0.883000</td>\n",
              "      <td>03:13</td>\n",
              "    </tr>\n",
              "    <tr>\n",
              "      <td>1</td>\n",
              "      <td>0.255028</td>\n",
              "      <td>0.216528</td>\n",
              "      <td>0.936586</td>\n",
              "      <td>03:10</td>\n",
              "    </tr>\n",
              "    <tr>\n",
              "      <td>2</td>\n",
              "      <td>0.214233</td>\n",
              "      <td>0.177794</td>\n",
              "      <td>0.947231</td>\n",
              "      <td>03:09</td>\n",
              "    </tr>\n",
              "    <tr>\n",
              "      <td>3</td>\n",
              "      <td>0.169464</td>\n",
              "      <td>0.169412</td>\n",
              "      <td>0.949060</td>\n",
              "      <td>03:09</td>\n",
              "    </tr>\n",
              "    <tr>\n",
              "      <td>4</td>\n",
              "      <td>0.153646</td>\n",
              "      <td>0.155308</td>\n",
              "      <td>0.953468</td>\n",
              "      <td>03:10</td>\n",
              "    </tr>\n",
              "    <tr>\n",
              "      <td>5</td>\n",
              "      <td>0.120060</td>\n",
              "      <td>0.130225</td>\n",
              "      <td>0.960423</td>\n",
              "      <td>03:10</td>\n",
              "    </tr>\n",
              "    <tr>\n",
              "      <td>6</td>\n",
              "      <td>0.104526</td>\n",
              "      <td>0.127473</td>\n",
              "      <td>0.961827</td>\n",
              "      <td>03:11</td>\n",
              "    </tr>\n",
              "    <tr>\n",
              "      <td>7</td>\n",
              "      <td>0.096595</td>\n",
              "      <td>0.128415</td>\n",
              "      <td>0.961631</td>\n",
              "      <td>03:14</td>\n",
              "    </tr>\n",
              "    <tr>\n",
              "      <td>8</td>\n",
              "      <td>0.104789</td>\n",
              "      <td>0.134597</td>\n",
              "      <td>0.960652</td>\n",
              "      <td>03:15</td>\n",
              "    </tr>\n",
              "    <tr>\n",
              "      <td>9</td>\n",
              "      <td>0.068555</td>\n",
              "      <td>0.114055</td>\n",
              "      <td>0.967313</td>\n",
              "      <td>03:17</td>\n",
              "    </tr>\n",
              "  </tbody>\n",
              "</table>"
            ],
            "text/plain": [
              "<IPython.core.display.HTML object>"
            ]
          },
          "metadata": {
            "tags": []
          }
        }
      ]
    },
    {
      "cell_type": "markdown",
      "metadata": {
        "id": "M_JDzfsaiZRQ"
      },
      "source": [
        "Same for HMCC_all set. "
      ]
    },
    {
      "cell_type": "markdown",
      "metadata": {
        "id": "cs5cQqVoTzIy"
      },
      "source": [
        "# HMCC_all"
      ]
    },
    {
      "cell_type": "code",
      "metadata": {
        "id": "Nluwkp8lVxCv"
      },
      "source": [
        "os.mkdir('/root/img_all/')"
      ],
      "execution_count": null,
      "outputs": []
    },
    {
      "cell_type": "code",
      "metadata": {
        "colab": {
          "base_uri": "https://localhost:8080/"
        },
        "id": "91_HmUi-WXM9",
        "outputId": "719f8bff-8a5c-4235-add1-2706fc45bebe"
      },
      "source": [
        "%cd '/root/img_all/'"
      ],
      "execution_count": null,
      "outputs": [
        {
          "output_type": "stream",
          "text": [
            "/root/img_all\n"
          ],
          "name": "stdout"
        }
      ]
    },
    {
      "cell_type": "markdown",
      "metadata": {
        "id": "Q6EQcDdAUwAi"
      },
      "source": [
        "### Preparing the train set"
      ]
    },
    {
      "cell_type": "code",
      "metadata": {
        "colab": {
          "base_uri": "https://localhost:8080/"
        },
        "id": "V1vuDR9wUy7s",
        "outputId": "b4cc061e-1fd3-4cdc-c074-a8f8d2c951b0"
      },
      "source": [
        "os.mkdir('train')\n",
        "%cd '/root/img_all/train'\n",
        "\n",
        "for n in range(0,66):\n",
        "  os.mkdir(str(n))\n",
        "\n",
        "for index, row in df_all.iloc[61186:367116].iterrows():\n",
        "  fname = row.values[0]\n",
        "  image = np.array(row.values[1:]).reshape(28,28)\n",
        "  image = Image.fromarray(image.astype(np.uint8))\n",
        "  image.save(str(fname)+\"/\"+str(index)+\".png\")"
      ],
      "execution_count": null,
      "outputs": [
        {
          "output_type": "stream",
          "text": [
            "/root/img_all/train\n"
          ],
          "name": "stdout"
        }
      ]
    },
    {
      "cell_type": "markdown",
      "metadata": {
        "id": "HrQxk6m1Xrri"
      },
      "source": [
        "### Preparing the validation set"
      ]
    },
    {
      "cell_type": "code",
      "metadata": {
        "colab": {
          "base_uri": "https://localhost:8080/"
        },
        "id": "tEnf442QXuQx",
        "outputId": "e0035040-4ef4-4642-fb20-bce365f6ea47"
      },
      "source": [
        "%cd '/root/img_all'\n",
        "os.mkdir('valid')\n",
        "%cd '/root/img_all/valid'\n",
        "\n",
        "for n in range(0,66):\n",
        "  os.mkdir(str(n))\n",
        "\n",
        "for index, row in df_all.iloc[0:61186].iterrows():\n",
        "  fname = row.values[0]\n",
        "  image = np.array(row.values[1:]).reshape(28,28)\n",
        "  image = Image.fromarray(image.astype(np.uint8))\n",
        "  image.save(str(fname)+\"/\"+str(index)+\".png\")"
      ],
      "execution_count": null,
      "outputs": [
        {
          "output_type": "stream",
          "text": [
            "/root/img_all\n",
            "/root/img_all/valid\n"
          ],
          "name": "stdout"
        }
      ]
    },
    {
      "cell_type": "code",
      "metadata": {
        "id": "n03U5xTBX_6b"
      },
      "source": [
        "path = '/root/img_all/'"
      ],
      "execution_count": null,
      "outputs": []
    },
    {
      "cell_type": "code",
      "metadata": {
        "id": "ZUbnI5edYR7J"
      },
      "source": [
        "dls_all = ImageDataLoaders.from_folder(path, train='train', valid='valid')"
      ],
      "execution_count": null,
      "outputs": []
    },
    {
      "cell_type": "code",
      "metadata": {
        "id": "N5tlG2o6Y27r"
      },
      "source": [
        "fnames = get_image_files(path)"
      ],
      "execution_count": null,
      "outputs": []
    },
    {
      "cell_type": "code",
      "metadata": {
        "colab": {
          "base_uri": "https://localhost:8080/"
        },
        "id": "Zggz7uFbZFNb",
        "outputId": "d1539e39-522f-4c07-d033-9b704b8ef0eb"
      },
      "source": [
        "len(fnames)"
      ],
      "execution_count": null,
      "outputs": [
        {
          "output_type": "execute_result",
          "data": {
            "text/plain": [
              "367115"
            ]
          },
          "metadata": {
            "tags": []
          },
          "execution_count": 31
        }
      ]
    },
    {
      "cell_type": "markdown",
      "metadata": {
        "id": "UsVc6I-OkzgN"
      },
      "source": [
        "## Training..."
      ]
    },
    {
      "cell_type": "code",
      "metadata": {
        "id": "9_xsBdmeZV7R"
      },
      "source": [
        "learn_all = cnn_learner(dls_all, resnet18, metrics=accuracy, pretrained=False)"
      ],
      "execution_count": null,
      "outputs": []
    },
    {
      "cell_type": "code",
      "metadata": {
        "colab": {
          "base_uri": "https://localhost:8080/",
          "height": 359
        },
        "id": "eszsMnTokm8a",
        "outputId": "8db67e94-735f-401d-8204-b6ff5b9c1f24"
      },
      "source": [
        "learn_all.fit(10)"
      ],
      "execution_count": null,
      "outputs": [
        {
          "output_type": "display_data",
          "data": {
            "text/html": [
              "<table border=\"1\" class=\"dataframe\">\n",
              "  <thead>\n",
              "    <tr style=\"text-align: left;\">\n",
              "      <th>epoch</th>\n",
              "      <th>train_loss</th>\n",
              "      <th>valid_loss</th>\n",
              "      <th>accuracy</th>\n",
              "      <th>time</th>\n",
              "    </tr>\n",
              "  </thead>\n",
              "  <tbody>\n",
              "    <tr>\n",
              "      <td>0</td>\n",
              "      <td>0.572550</td>\n",
              "      <td>0.553522</td>\n",
              "      <td>0.801719</td>\n",
              "      <td>07:07</td>\n",
              "    </tr>\n",
              "    <tr>\n",
              "      <td>1</td>\n",
              "      <td>0.477583</td>\n",
              "      <td>0.422260</td>\n",
              "      <td>0.844556</td>\n",
              "      <td>06:52</td>\n",
              "    </tr>\n",
              "    <tr>\n",
              "      <td>2</td>\n",
              "      <td>0.405488</td>\n",
              "      <td>0.404804</td>\n",
              "      <td>0.849345</td>\n",
              "      <td>06:39</td>\n",
              "    </tr>\n",
              "    <tr>\n",
              "      <td>3</td>\n",
              "      <td>0.385199</td>\n",
              "      <td>0.355225</td>\n",
              "      <td>0.868140</td>\n",
              "      <td>06:37</td>\n",
              "    </tr>\n",
              "    <tr>\n",
              "      <td>4</td>\n",
              "      <td>0.350330</td>\n",
              "      <td>0.337010</td>\n",
              "      <td>0.873419</td>\n",
              "      <td>06:37</td>\n",
              "    </tr>\n",
              "    <tr>\n",
              "      <td>5</td>\n",
              "      <td>0.307206</td>\n",
              "      <td>0.321909</td>\n",
              "      <td>0.878698</td>\n",
              "      <td>06:34</td>\n",
              "    </tr>\n",
              "    <tr>\n",
              "      <td>6</td>\n",
              "      <td>0.305619</td>\n",
              "      <td>0.329089</td>\n",
              "      <td>0.876328</td>\n",
              "      <td>06:35</td>\n",
              "    </tr>\n",
              "    <tr>\n",
              "      <td>7</td>\n",
              "      <td>0.268482</td>\n",
              "      <td>0.307628</td>\n",
              "      <td>0.884581</td>\n",
              "      <td>06:36</td>\n",
              "    </tr>\n",
              "    <tr>\n",
              "      <td>8</td>\n",
              "      <td>0.251027</td>\n",
              "      <td>0.309156</td>\n",
              "      <td>0.885529</td>\n",
              "      <td>06:45</td>\n",
              "    </tr>\n",
              "    <tr>\n",
              "      <td>9</td>\n",
              "      <td>0.241567</td>\n",
              "      <td>0.307957</td>\n",
              "      <td>0.887115</td>\n",
              "      <td>06:48</td>\n",
              "    </tr>\n",
              "  </tbody>\n",
              "</table>"
            ],
            "text/plain": [
              "<IPython.core.display.HTML object>"
            ]
          },
          "metadata": {
            "tags": []
          }
        }
      ]
    },
    {
      "cell_type": "markdown",
      "metadata": {
        "id": "FORIAWcA4VmR"
      },
      "source": [
        "# Results:\n",
        "### - HMCC_letters : 96.7% (10 Epochs)\n",
        "### - HMCC_all : 88.7% (10 Epochs)"
      ]
    }
  ]
}